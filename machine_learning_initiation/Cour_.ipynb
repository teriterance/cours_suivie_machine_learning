{
 "cells": [
  {
   "cell_type": "code",
   "execution_count": 53,
   "metadata": {},
   "outputs": [],
   "source": [
    "import numpy as np\n",
    "import matplotlib.pyplot as plt \n",
    "import pandas as pd"
   ]
  },
  {
   "cell_type": "code",
   "execution_count": 54,
   "metadata": {},
   "outputs": [],
   "source": [
    "#on ouvre le centre de donnees du fichhier House \n",
    "house_data = pd.read_csv('house.csv')\n",
    "#print(house_data)\n",
    "#on affiche les donnee\n",
    "#plt.plot(house_data['surface'], house_data['loyer'], '*')\n",
    "#plt.ylabel('loyer')\n",
    "#plt.xlabel('surface')\n",
    "#plt.title('nuage de point loyer surface')\n",
    "#plt.show()"
   ]
  },
  {
   "cell_type": "code",
   "execution_count": 55,
   "metadata": {},
   "outputs": [
    {
     "name": "stdout",
     "output_type": "stream",
     "text": [
      "[[-283.37836117]\n",
      " [  40.97116431]]\n"
     ]
    }
   ],
   "source": [
    "# On décompose le dataset et on le transforme en matrices pour pouvoir effectuer notre calcul\n",
    "X = np.matrix([np.ones(house_data.shape[0]), house_data['surface'].values]).T\n",
    "y = np.matrix(house_data['loyer']).T\n",
    "\n",
    "# On effectue le calcul exact du paramètre theta\n",
    "theta = np.linalg.inv(X.T.dot(X)).dot(X.T).dot(y)\n",
    "\n",
    "print(theta)"
   ]
  },
  {
   "cell_type": "code",
   "execution_count": 56,
   "metadata": {},
   "outputs": [
    {
     "data": {
      "image/png": "[encoded data removed]",
      "text/plain": [
       "<Figure size 432x288 with 1 Axes>"
      ]
     },
     "metadata": {
      "needs_background": "light"
     },
     "output_type": "display_data"
    }
   ],
   "source": [
    "plt.plot(house_data['surface'], house_data['loyer'], '*')\n",
    "plt.plot([0,500], [theta.item(0),theta.item(0) + 500 * theta.item(1)], linestyle='--', c='#000000')\n",
    "plt.ylabel('loyer')\n",
    "plt.xlabel('surface')\n",
    "plt.title('nuage de point loyer surface')\n",
    "plt.show()"
   ]
  },
  {
   "cell_type": "code",
   "execution_count": 57,
   "metadata": {},
   "outputs": [
    {
     "name": "stdout",
     "output_type": "stream",
     "text": [
      "[ 0.         40.97116431]\n",
      "-283.37836116658536\n"
     ]
    }
   ],
   "source": [
    "## traitement avec un model lineaire\n",
    "from sklearn import linear_model\n",
    "regr = linear_model.LinearRegression()\n",
    "### [ [0, i] for i in house_data['surface'].values] la fonction fit prend en entree un truc bidimenssionel x, y et le resulta z\n",
    "regr.fit([ [0, i] for i in house_data['surface'].values], house_data['loyer'].values)\n",
    "regr.score([ [0, i] for i in house_data['surface'].values], house_data['loyer'].values)\n",
    "print(regr.coef_)\n",
    "print(regr.intercept_)"
   ]
  },
  {
   "cell_type": "code",
   "execution_count": 58,
   "metadata": {},
   "outputs": [
    {
     "data": {
      "text/plain": [
       "0.8649318496779514"
      ]
     },
     "execution_count": 58,
     "metadata": {},
     "output_type": "execute_result"
    }
   ],
   "source": [
    "from sklearn.model_selection import train_test_split\n",
    "xtrain, xtest, ytrain, ytest = train_test_split([ [0, i] for i in house_data['surface'].values], house_data['loyer'].values, train_size=0.8)\n",
    "regr.score(xtest, ytest)"
   ]
  },
  {
   "cell_type": "code",
   "execution_count": null,
   "metadata": {},
   "outputs": [],
   "source": []
  }
 ],
 "metadata": {
  "kernelspec": {
   "display_name": "Python 3",
   "language": "python",
   "name": "python3"
  },
  "language_info": {
   "codemirror_mode": {
    "name": "ipython",
    "version": 3
   },
   "file_extension": ".py",
   "mimetype": "text/x-python",
   "name": "python",
   "nbconvert_exporter": "python",
   "pygments_lexer": "ipython3",
   "version": "3.7.3"
  }
 },
 "nbformat": 4,
 "nbformat_minor": 2
}
